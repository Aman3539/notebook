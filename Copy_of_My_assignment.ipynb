{
  "nbformat": 4,
  "nbformat_minor": 0,
  "metadata": {
    "colab": {
      "provenance": [],
      "authorship_tag": "ABX9TyMAvZLtR9q69jMU0sIy+dIt",
      "include_colab_link": true
    },
    "kernelspec": {
      "name": "python3",
      "display_name": "Python 3"
    },
    "language_info": {
      "name": "python"
    }
  },
  "cells": [
    {
      "cell_type": "markdown",
      "metadata": {
        "id": "view-in-github",
        "colab_type": "text"
      },
      "source": [
        "<a href=\"https://colab.research.google.com/github/Aman3539/notebook/blob/main/Copy_of_My_assignment.ipynb\" target=\"_parent\"><img src=\"https://colab.research.google.com/assets/colab-badge.svg\" alt=\"Open In Colab\"/></a>"
      ]
    },
    {
      "cell_type": "code",
      "source": [
        "#create a string with my name\n",
        "my_name= \"Aman\"\n",
        "#print the string\n",
        "print(my_name)"
      ],
      "metadata": {
        "colab": {
          "base_uri": "https://localhost:8080/"
        },
        "id": "k0XaLSrS9sub",
        "outputId": "b03fc9c7-b613-4046-e7a7-ea2e60913000"
      },
      "execution_count": null,
      "outputs": [
        {
          "output_type": "stream",
          "name": "stdout",
          "text": [
            "Aman\n"
          ]
        }
      ]
    },
    {
      "cell_type": "code",
      "source": [
        "#define the string\n",
        "my_string=\"Hello World\"\n",
        "#find the length of the string\n",
        "lenght=len(my_string)\n",
        "#print the lenght\n",
        "print(lenght)"
      ],
      "metadata": {
        "colab": {
          "base_uri": "https://localhost:8080/"
        },
        "id": "-KA9rIlr-WwW",
        "outputId": "7fd9de88-9c30-4593-f465-d3866383185b"
      },
      "execution_count": null,
      "outputs": [
        {
          "output_type": "stream",
          "name": "stdout",
          "text": [
            "11\n"
          ]
        }
      ]
    },
    {
      "cell_type": "code",
      "source": [
        "#define the string\n",
        "my_string=\"Python Programming \"\n",
        "#Slice the first 3 characters\n",
        "first_three_chars=my_string[:3]\n",
        "#print the result\n",
        "print(first_three_chars)"
      ],
      "metadata": {
        "colab": {
          "base_uri": "https://localhost:8080/"
        },
        "id": "rbaiqOXn_NEq",
        "outputId": "d288ca11-024f-4ae2-ce0d-658d84175f1d"
      },
      "execution_count": null,
      "outputs": [
        {
          "output_type": "stream",
          "name": "stdout",
          "text": [
            "Pyt\n"
          ]
        }
      ]
    },
    {
      "cell_type": "code",
      "source": [
        "#define the string\n",
        "my_string=\"hello\"\n",
        "#convert to uppercase\n",
        "uppercase_string=my_string.upper()\n",
        "#print the result\n",
        "print(uppercase_string)"
      ],
      "metadata": {
        "colab": {
          "base_uri": "https://localhost:8080/"
        },
        "id": "PPwFWtcLsqh6",
        "outputId": "011557ac-7217-4e69-8965-1f80f06eb938"
      },
      "execution_count": null,
      "outputs": [
        {
          "output_type": "stream",
          "name": "stdout",
          "text": [
            "HELLO\n"
          ]
        }
      ]
    },
    {
      "cell_type": "code",
      "source": [
        "#define the string\n",
        "my_string= \"I like Apple \"\n",
        "#replace \"Apple\" with \"orange\"\n",
        "new_string=my_string.replace(\"Apple\",\"orange\")\n",
        "#print the result\n",
        "print(new_string)"
      ],
      "metadata": {
        "colab": {
          "base_uri": "https://localhost:8080/"
        },
        "id": "35CXHzBLtcLp",
        "outputId": "09daae28-3015-4e12-d0b1-1356a4a5641d"
      },
      "execution_count": null,
      "outputs": [
        {
          "output_type": "stream",
          "name": "stdout",
          "text": [
            "I like orange \n"
          ]
        }
      ]
    },
    {
      "cell_type": "code",
      "source": [
        "#create a list with number 1 to 5\n",
        "my_list=[1,2,3,4,5]\n",
        "#Atlernatively,use range function\n",
        "my_list=list(range(1,6))\n",
        "#print the list\n",
        "print(my_list)"
      ],
      "metadata": {
        "colab": {
          "base_uri": "https://localhost:8080/"
        },
        "id": "EjFv7UF_u11g",
        "outputId": "eed294de-c77b-4f8a-876a-45359dce4bf8"
      },
      "execution_count": null,
      "outputs": [
        {
          "output_type": "stream",
          "name": "stdout",
          "text": [
            "[1, 2, 3, 4, 5]\n"
          ]
        }
      ]
    },
    {
      "cell_type": "code",
      "source": [
        "#define the list\n",
        "my_list=[1,2,3,4]\n",
        "#Append the number 10\n",
        "my_list.append(10)\n",
        "#print the updated list\n",
        "print(my_list)"
      ],
      "metadata": {
        "colab": {
          "base_uri": "https://localhost:8080/"
        },
        "id": "3mTQyRKfwa-7",
        "outputId": "6deebabc-a0dd-4929-eafc-3a4eddff0880"
      },
      "execution_count": null,
      "outputs": [
        {
          "output_type": "stream",
          "name": "stdout",
          "text": [
            "[1, 2, 3, 4, 10]\n"
          ]
        }
      ]
    },
    {
      "cell_type": "code",
      "source": [
        "#define the list\n",
        "my_list=[1,2,3,4,5]\n",
        "#remove the number 3\n",
        "my_list.remove(3)\n",
        "#print the update list\n",
        "print (my_list)"
      ],
      "metadata": {
        "colab": {
          "base_uri": "https://localhost:8080/"
        },
        "id": "8fRXciYixT2G",
        "outputId": "7b0f9328-8393-4990-c0c0-6c4d24d43599"
      },
      "execution_count": null,
      "outputs": [
        {
          "output_type": "stream",
          "name": "stdout",
          "text": [
            "[1, 2, 4, 5]\n"
          ]
        }
      ]
    },
    {
      "cell_type": "code",
      "source": [
        "#define the list\n",
        "my_list=['a','b','c','d']\n",
        "#Access the second element (index1)\n",
        "second_element=my_list[1]\n",
        "#print the result\n",
        "print(second_element)"
      ],
      "metadata": {
        "colab": {
          "base_uri": "https://localhost:8080/"
        },
        "id": "SOGHJwx0yXfB",
        "outputId": "655af99f-3f4e-4548-ee48-c959bf7780cd"
      },
      "execution_count": null,
      "outputs": [
        {
          "output_type": "stream",
          "name": "stdout",
          "text": [
            "b\n"
          ]
        }
      ]
    },
    {
      "cell_type": "code",
      "source": [
        "#define the list\n",
        "my_list=[10,20,30,40,50]\n",
        "#reverse the list\n",
        "my_list.reverse()\n",
        "#Alternatively,use slicing:my_list=\n",
        "my_list[::-1]\n",
        "#print the reversed list\n",
        "print(my_list)"
      ],
      "metadata": {
        "colab": {
          "base_uri": "https://localhost:8080/"
        },
        "id": "zhV6ZeTFzk-v",
        "outputId": "818c0179-9d79-48e6-9c95-bf93ab6c5ef0"
      },
      "execution_count": null,
      "outputs": [
        {
          "output_type": "stream",
          "name": "stdout",
          "text": [
            "[50, 40, 30, 20, 10]\n"
          ]
        }
      ]
    },
    {
      "cell_type": "code",
      "source": [
        "#define the tuple\n",
        "my_tuple=('red','green','blue','yellow')\n",
        "#access the second to last element (index-2)\n",
        "second_last_element=my_tuple[-2]\n",
        "#print the result\n",
        "print (second_last_element)\n",
        "\n",
        "\n"
      ],
      "metadata": {
        "colab": {
          "base_uri": "https://localhost:8080/"
        },
        "id": "2PIc0CTw7Bhq",
        "outputId": "850fbe64-141c-43e9-f76c-9ebfa5ef7ca4"
      },
      "execution_count": null,
      "outputs": [
        {
          "output_type": "stream",
          "name": "stdout",
          "text": [
            "blue\n"
          ]
        }
      ]
    },
    {
      "cell_type": "code",
      "source": [
        "#define the tuple\n",
        "my_tuple=(10,20,5,15)\n",
        "#find the minimum number\n",
        "min_number=min(my_tuple)\n",
        "#print the result\n",
        "print(min_number)"
      ],
      "metadata": {
        "colab": {
          "base_uri": "https://localhost:8080/"
        },
        "id": "VPUENGEJ9BPT",
        "outputId": "49eb0b28-aec0-4cf9-86c2-c6d82898b664"
      },
      "execution_count": null,
      "outputs": [
        {
          "output_type": "stream",
          "name": "stdout",
          "text": [
            "5\n"
          ]
        }
      ]
    },
    {
      "cell_type": "code",
      "source": [
        "#define the tuple\n",
        "my_tuple=('dog','cat','rabbit')\n",
        "#find the index of 'cat'\n",
        "index=my_tuple.index('cat')\n",
        "#print the result\n",
        "print(index)"
      ],
      "metadata": {
        "colab": {
          "base_uri": "https://localhost:8080/"
        },
        "id": "U9YEwH7Z_xvK",
        "outputId": "d4869472-7508-4bd7-e332-fc523d61ec64"
      },
      "execution_count": null,
      "outputs": [
        {
          "output_type": "stream",
          "name": "stdout",
          "text": [
            "1\n"
          ]
        }
      ]
    },
    {
      "cell_type": "code",
      "source": [
        "#define the list\n",
        "my_list=['apple','Banana','orange','apple']\n",
        "#convert the list to a set\n",
        "my_set=set(my_list)\n",
        "#print the set\n",
        "print(my_set)"
      ],
      "metadata": {
        "colab": {
          "base_uri": "https://localhost:8080/"
        },
        "id": "2JsYzcFQ9tXO",
        "outputId": "9987ff46-620a-4a5f-83e3-8d803fa5fdfc"
      },
      "execution_count": 1,
      "outputs": [
        {
          "output_type": "stream",
          "name": "stdout",
          "text": [
            "{'apple', 'Banana', 'orange'}\n"
          ]
        }
      ]
    },
    {
      "cell_type": "markdown",
      "source": [],
      "metadata": {
        "id": "woPT6SOH9Zc2"
      }
    }
  ]
}